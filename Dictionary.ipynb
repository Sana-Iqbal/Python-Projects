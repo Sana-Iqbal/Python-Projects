{
 "cells": [
  {
   "cell_type": "code",
   "execution_count": 1,
   "metadata": {},
   "outputs": [
    {
     "name": "stdout",
     "output_type": "stream",
     "text": [
      "Enter word : Sana\n",
      "Did you mean sauna instead? Enter Y if yes, or N if no. N\n",
      "Word doesn't exist. Please double check it.\n"
     ]
    }
   ],
   "source": [
    "import json\n",
    "from difflib import SequenceMatcher as sm\n",
    "from difflib import get_close_matches as gcm\n",
    "\n",
    "\n",
    "def translate(w):\n",
    "    w = w.lower()\n",
    "    if w in data:\n",
    "        return data[w]\n",
    "    elif len(gcm(w,data.keys())) > 0:\n",
    "        yn =  input(\"Did you mean %s instead? Enter Y if yes, or N if no. \" % gcm(w,data.keys())[0])\n",
    "        if yn == 'Y':\n",
    "            return data[gcm(w,data.keys())[0]]\n",
    "        elif yn == 'N':\n",
    "            return \"Word doesn't exist. Please double check it.\"\n",
    "        else:\n",
    "            return \"Sorry we did not understand your query!\"\n",
    "    else:\n",
    "        return \"Word doesn't exist. Please double check it.\"\n",
    "\n",
    "data = json.load(open(\"data.json\"))\n",
    "\n",
    "word = input(\"Enter word : \")\n",
    "output = translate(word)\n",
    "\n",
    "if type(output) == 'list':\n",
    "    for item in output:\n",
    "        print(item)\n",
    "else:\n",
    "    print(output)"
   ]
  },
  {
   "cell_type": "code",
   "execution_count": null,
   "metadata": {},
   "outputs": [],
   "source": []
  }
 ],
 "metadata": {
  "kernelspec": {
   "display_name": "Python 3",
   "language": "python",
   "name": "python3"
  },
  "language_info": {
   "codemirror_mode": {
    "name": "ipython",
    "version": 3
   },
   "file_extension": ".py",
   "mimetype": "text/x-python",
   "name": "python",
   "nbconvert_exporter": "python",
   "pygments_lexer": "ipython3",
   "version": "3.6.5"
  }
 },
 "nbformat": 4,
 "nbformat_minor": 2
}
